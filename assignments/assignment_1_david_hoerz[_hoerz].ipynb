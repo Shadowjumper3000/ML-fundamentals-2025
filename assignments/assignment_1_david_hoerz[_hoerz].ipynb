{
 "cells": [
  {
   "cell_type": "markdown",
   "metadata": {},
   "source": [
    "# Basic Introduction and Summary of Assignment\n",
    "\n",
    "In this assignment, we will be working with the Titanic dataset. The goal is to load, preprocess, and analyze the data to gain insights into the factors that influenced the survival of passengers. We will perform various data preprocessing steps such as handling missing values, encoding categorical variables, and feature scaling.\n",
    "\n",
    "## Loading and Preprocessing of the Titanic Dataset\n",
    "\n",
    "We will start by loading the Titanic dataset and performing necessary preprocessing steps to prepare the data for analysis. This includes:\n",
    "\n",
    "1. Handling missing values.\n",
    "2. Encoding categorical variables.\n",
    "3. Feature scaling.\n"
   ]
  },
  {
   "cell_type": "markdown",
   "metadata": {},
   "source": [
    "# Titanic Dataset Description\n",
    "\n",
    "1. **survival**: Survival (0 = No; 1 = Yes).\n",
    "2. **class**: Passenger Class (1 = 1st; 2 = 2nd; 3 = 3rd).\n",
    "3. **name**: Name.\n",
    "4. **sex**: Sex.\n",
    "5. **sibsp**: Number of Siblings/Spouses Aboard.\n",
    "6. **parch**: Number of Parents/Children Aboard.\n",
    "7. **ticket**: Ticket Number.\n",
    "8. **fare**: Passenger Fare.\n",
    "9. **cabin**: Cabin.\n",
    "10. **embarked**: Port of Embarkation (C = Cherbourg; Q = Queenstown; S = Southampton).\n",
    "11. **boat**: Lifeboat (if survived).\n",
    "12. **body**: Body number (if did not survive and the body was recovered).\n"
   ]
  },
  {
   "cell_type": "code",
   "execution_count": 281,
   "metadata": {},
   "outputs": [],
   "source": [
    "import pandas as pd\n",
    "import matplotlib.pyplot as plt\n",
    "import numpy as np\n",
    "import seaborn as sns\n",
    "import scipy.stats as stats\n",
    "\n",
    "from scipy.stats import pearsonr\n",
    "from sklearn.preprocessing import StandardScaler\n"
   ]
  },
  {
   "cell_type": "markdown",
   "metadata": {},
   "source": [
    "# Task 1: Data Loading and Initial Exploration"
   ]
  },
  {
   "cell_type": "code",
   "execution_count": 282,
   "metadata": {},
   "outputs": [
    {
     "name": "stdout",
     "output_type": "stream",
     "text": [
      "   pclass  survived                                             name     sex  \\\n",
      "0       1         1                    Allen, Miss. Elisabeth Walton  female   \n",
      "1       1         1                   Allison, Master. Hudson Trevor    male   \n",
      "2       1         0                     Allison, Miss. Helen Loraine  female   \n",
      "3       1         0             Allison, Mr. Hudson Joshua Creighton    male   \n",
      "4       1         0  Allison, Mrs. Hudson J C (Bessie Waldo Daniels)  female   \n",
      "\n",
      "       age  sibsp  parch  ticket      fare    cabin embarked boat   body  \\\n",
      "0  29.0000      0      0   24160  211.3375       B5        S    2    NaN   \n",
      "1   0.9167      1      2  113781  151.5500  C22 C26        S   11    NaN   \n",
      "2   2.0000      1      2  113781  151.5500  C22 C26        S  NaN    NaN   \n",
      "3  30.0000      1      2  113781  151.5500  C22 C26        S  NaN  135.0   \n",
      "4  25.0000      1      2  113781  151.5500  C22 C26        S  NaN    NaN   \n",
      "\n",
      "                         home.dest  \n",
      "0                     St Louis, MO  \n",
      "1  Montreal, PQ / Chesterville, ON  \n",
      "2  Montreal, PQ / Chesterville, ON  \n",
      "3  Montreal, PQ / Chesterville, ON  \n",
      "4  Montreal, PQ / Chesterville, ON  \n",
      "<class 'pandas.core.frame.DataFrame'>\n",
      "RangeIndex: 1309 entries, 0 to 1308\n",
      "Data columns (total 14 columns):\n",
      " #   Column     Non-Null Count  Dtype  \n",
      "---  ------     --------------  -----  \n",
      " 0   pclass     1309 non-null   int64  \n",
      " 1   survived   1309 non-null   int64  \n",
      " 2   name       1309 non-null   object \n",
      " 3   sex        1309 non-null   object \n",
      " 4   age        1046 non-null   float64\n",
      " 5   sibsp      1309 non-null   int64  \n",
      " 6   parch      1309 non-null   int64  \n",
      " 7   ticket     1309 non-null   object \n",
      " 8   fare       1308 non-null   float64\n",
      " 9   cabin      295 non-null    object \n",
      " 10  embarked   1307 non-null   object \n",
      " 11  boat       486 non-null    object \n",
      " 12  body       121 non-null    float64\n",
      " 13  home.dest  745 non-null    object \n",
      "dtypes: float64(3), int64(4), object(7)\n",
      "memory usage: 143.3+ KB\n",
      "None\n",
      "            pclass     survived          age        sibsp        parch  \\\n",
      "count  1309.000000  1309.000000  1046.000000  1309.000000  1309.000000   \n",
      "mean      2.294882     0.381971    29.881135     0.498854     0.385027   \n",
      "std       0.837836     0.486055    14.413500     1.041658     0.865560   \n",
      "min       1.000000     0.000000     0.166700     0.000000     0.000000   \n",
      "25%       2.000000     0.000000    21.000000     0.000000     0.000000   \n",
      "50%       3.000000     0.000000    28.000000     0.000000     0.000000   \n",
      "75%       3.000000     1.000000    39.000000     1.000000     0.000000   \n",
      "max       3.000000     1.000000    80.000000     8.000000     9.000000   \n",
      "\n",
      "              fare        body  \n",
      "count  1308.000000  121.000000  \n",
      "mean     33.295479  160.809917  \n",
      "std      51.758668   97.696922  \n",
      "min       0.000000    1.000000  \n",
      "25%       7.895800   72.000000  \n",
      "50%      14.454200  155.000000  \n",
      "75%      31.275000  256.000000  \n",
      "max     512.329200  328.000000  \n"
     ]
    }
   ],
   "source": [
    "# Load the dataset\n",
    "file_path = 'titanic3.xls'\n",
    "titanic_df = pd.read_excel(file_path)\n",
    "\n",
    "# Display the first few rows of the dataset\n",
    "print(titanic_df.head())\n",
    "\n",
    "# Display the dataset information\n",
    "print(titanic_df.info())\n",
    "\n",
    "# Display the summary statistics of the dataset\n",
    "print(titanic_df.describe())"
   ]
  },
  {
   "cell_type": "markdown",
   "metadata": {},
   "source": [
    "# Task 2: Managing Missing Values"
   ]
  },
  {
   "cell_type": "code",
   "execution_count": 283,
   "metadata": {},
   "outputs": [
    {
     "name": "stdout",
     "output_type": "stream",
     "text": [
      "\n",
      "Missing Values Count for Each Column:\n",
      "pclass          0\n",
      "survived        0\n",
      "name            0\n",
      "sex             0\n",
      "age           263\n",
      "sibsp           0\n",
      "parch           0\n",
      "ticket          0\n",
      "fare            1\n",
      "cabin        1014\n",
      "embarked        2\n",
      "boat          823\n",
      "body         1188\n",
      "home.dest     564\n",
      "dtype: int64\n",
      "\n",
      "Filtered Dataset (No Missing Values):\n",
      "Empty DataFrame\n",
      "Columns: [pclass, survived, name, sex, age, sibsp, parch, ticket, fare, cabin, embarked, boat, body, home.dest]\n",
      "Index: []\n",
      "\n",
      "Filtered Dataset Info:\n",
      "<class 'pandas.core.frame.DataFrame'>\n",
      "Index: 0 entries\n",
      "Data columns (total 14 columns):\n",
      " #   Column     Non-Null Count  Dtype  \n",
      "---  ------     --------------  -----  \n",
      " 0   pclass     0 non-null      int64  \n",
      " 1   survived   0 non-null      int64  \n",
      " 2   name       0 non-null      object \n",
      " 3   sex        0 non-null      object \n",
      " 4   age        0 non-null      float64\n",
      " 5   sibsp      0 non-null      int64  \n",
      " 6   parch      0 non-null      int64  \n",
      " 7   ticket     0 non-null      object \n",
      " 8   fare       0 non-null      float64\n",
      " 9   cabin      0 non-null      object \n",
      " 10  embarked   0 non-null      object \n",
      " 11  boat       0 non-null      object \n",
      " 12  body       0 non-null      float64\n",
      " 13  home.dest  0 non-null      object \n",
      "dtypes: float64(3), int64(4), object(7)\n",
      "memory usage: 0.0+ bytes\n",
      "None\n",
      "\n",
      "Filtered Dataset Summary Statistics:\n",
      "       pclass  survived  age  sibsp  parch  fare  body\n",
      "count     0.0       0.0  0.0    0.0    0.0   0.0   0.0\n",
      "mean      NaN       NaN  NaN    NaN    NaN   NaN   NaN\n",
      "std       NaN       NaN  NaN    NaN    NaN   NaN   NaN\n",
      "min       NaN       NaN  NaN    NaN    NaN   NaN   NaN\n",
      "25%       NaN       NaN  NaN    NaN    NaN   NaN   NaN\n",
      "50%       NaN       NaN  NaN    NaN    NaN   NaN   NaN\n",
      "75%       NaN       NaN  NaN    NaN    NaN   NaN   NaN\n",
      "max       NaN       NaN  NaN    NaN    NaN   NaN   NaN\n"
     ]
    }
   ],
   "source": [
    "# Count missing values for each column\n",
    "missing_values_count = titanic_df.isnull().sum()\n",
    "print(\"\\nMissing Values Count for Each Column:\")\n",
    "print(missing_values_count)\n",
    "\n",
    "# Filter out rows with missing values\n",
    "filtered_df = titanic_df.dropna()\n",
    "\n",
    "# Display the first few rows of the filtered dataset\n",
    "print(\"\\nFiltered Dataset (No Missing Values):\")\n",
    "print(filtered_df.head())\n",
    "\n",
    "# Display the dataset information\n",
    "print(\"\\nFiltered Dataset Info:\")\n",
    "print(filtered_df.info())\n",
    "\n",
    "# Display the summary statistics of the filtered dataset\n",
    "print(\"\\nFiltered Dataset Summary Statistics:\")\n",
    "print(filtered_df.describe())"
   ]
  },
  {
   "cell_type": "code",
   "execution_count": 284,
   "metadata": {},
   "outputs": [],
   "source": [
    "# Remove the 'boat' column, as this is dependent on survival status\n",
    "titanic_df.drop(columns=['boat'], inplace=True)"
   ]
  },
  {
   "cell_type": "code",
   "execution_count": 285,
   "metadata": {},
   "outputs": [],
   "source": [
    "# Remove the 'body' column, as this is dependent on survival status\n",
    "titanic_df.drop(columns=['body'], inplace=True)"
   ]
  },
  {
   "cell_type": "code",
   "execution_count": 286,
   "metadata": {},
   "outputs": [],
   "source": [
    "# Drop the 'name' column\n",
    "titanic_df.drop(columns=['name'], inplace=True)"
   ]
  },
  {
   "cell_type": "code",
   "execution_count": 287,
   "metadata": {},
   "outputs": [],
   "source": [
    "# Drop the 'ticket' column as it is not statistically significant\n",
    "titanic_df.drop(columns=['ticket'], inplace=True)"
   ]
  },
  {
   "cell_type": "code",
   "execution_count": 288,
   "metadata": {},
   "outputs": [
    {
     "name": "stdout",
     "output_type": "stream",
     "text": [
      "Chi-Square Test Statistic: 44.24174307145249\n",
      "P-value: 2.4718809874825634e-10\n",
      "There is a significant correlation between 'embarked' and 'survived'.\n"
     ]
    }
   ],
   "source": [
    "# Create a contingency table\n",
    "contingency_table = pd.crosstab(titanic_df['embarked'], titanic_df['survived'])\n",
    "\n",
    "# Perform the Chi-Square test of independence\n",
    "chi2, p, dof, expected = stats.chi2_contingency(contingency_table)\n",
    "\n",
    "print(\"Chi-Square Test Statistic:\", chi2)\n",
    "print(\"P-value:\", p)\n",
    "\n",
    "# Interpret the p-value\n",
    "alpha = 0.05\n",
    "if p < alpha:\n",
    "    print(\"There is a significant correlation between 'embarked' and 'survived'.\")\n",
    "else:\n",
    "    print(\"There is no significant correlation between 'embarked' and 'survived'.\")"
   ]
  },
  {
   "cell_type": "code",
   "execution_count": 289,
   "metadata": {},
   "outputs": [
    {
     "name": "stderr",
     "output_type": "stream",
     "text": [
      "C:\\Users\\DAHoe\\AppData\\Local\\Temp\\ipykernel_6052\\1947013915.py:3: FutureWarning: A value is trying to be set on a copy of a DataFrame or Series through chained assignment using an inplace method.\n",
      "The behavior will change in pandas 3.0. This inplace method will never work because the intermediate object on which we are setting values always behaves as a copy.\n",
      "\n",
      "For example, when doing 'df[col].method(value, inplace=True)', try using 'df.method({col: value}, inplace=True)' or df[col] = df[col].method(value) instead, to perform the operation inplace on the original object.\n",
      "\n",
      "\n",
      "  titanic_df['embarked'].fillna(median_embarked, inplace=True)\n"
     ]
    }
   ],
   "source": [
    "# Fill missing 'embarked' values with the median embarked value\n",
    "median_embarked = titanic_df['embarked'].mode()[0]\n",
    "titanic_df['embarked'].fillna(median_embarked, inplace=True)"
   ]
  },
  {
   "cell_type": "code",
   "execution_count": 290,
   "metadata": {},
   "outputs": [
    {
     "name": "stdout",
     "output_type": "stream",
     "text": [
      "Chi-Square Test Statistic for 'home.dest' and 'survived': 453.5181628230581\n",
      "P-value for 'home.dest' and 'survived': 0.001534485424156045\n",
      "There is a significant correlation between 'home.dest' and 'survived'.\n"
     ]
    }
   ],
   "source": [
    "# Create a contingency table\n",
    "contingency_table_home_dest = pd.crosstab(titanic_df['home.dest'], titanic_df['survived'])\n",
    "\n",
    "# Perform the Chi-Square test of independence\n",
    "chi2_home_dest, p_home_dest, dof_home_dest, expected_home_dest = stats.chi2_contingency(contingency_table_home_dest)\n",
    "\n",
    "print(\"Chi-Square Test Statistic for 'home.dest' and 'survived':\", chi2_home_dest)\n",
    "print(\"P-value for 'home.dest' and 'survived':\", p_home_dest)\n",
    "\n",
    "# Interpret the p-value\n",
    "alpha = 0.05\n",
    "if p_home_dest < alpha:\n",
    "    print(\"There is a significant correlation between 'home.dest' and 'survived'.\")\n",
    "else:\n",
    "    print(\"There is no significant correlation between 'home.dest' and 'survived'.\")"
   ]
  },
  {
   "cell_type": "code",
   "execution_count": 291,
   "metadata": {},
   "outputs": [],
   "source": [
    "# Calculate the percentage distribution of the existing home.dest values\n",
    "home_dest_distribution = titanic_df['home.dest'].value_counts(normalize=True)\n",
    "\n",
    "# Function to fill missing home.dest values based on the distribution\n",
    "def fill_home_dest(row):\n",
    "    if pd.isnull(row['home.dest']):\n",
    "        return np.random.choice(home_dest_distribution.index, p=home_dest_distribution.values)\n",
    "    else:\n",
    "        return row['home.dest']\n",
    "\n",
    "# Apply the function to fill missing home.dest values\n",
    "titanic_df['home.dest'] = titanic_df.apply(fill_home_dest, axis=1)"
   ]
  },
  {
   "cell_type": "code",
   "execution_count": 292,
   "metadata": {},
   "outputs": [
    {
     "name": "stderr",
     "output_type": "stream",
     "text": [
      "C:\\Users\\DAHoe\\AppData\\Local\\Temp\\ipykernel_6052\\2160160603.py:5: FutureWarning: A value is trying to be set on a copy of a DataFrame or Series through chained assignment using an inplace method.\n",
      "The behavior will change in pandas 3.0. This inplace method will never work because the intermediate object on which we are setting values always behaves as a copy.\n",
      "\n",
      "For example, when doing 'df[col].method(value, inplace=True)', try using 'df.method({col: value}, inplace=True)' or df[col] = df[col].method(value) instead, to perform the operation inplace on the original object.\n",
      "\n",
      "\n",
      "  titanic_df['age'].fillna(median_age, inplace=True)\n"
     ]
    }
   ],
   "source": [
    "# Calculate the median age\n",
    "median_age = titanic_df['age'].median()\n",
    "\n",
    "# Substitute the median age for missing age values\n",
    "titanic_df['age'].fillna(median_age, inplace=True)"
   ]
  },
  {
   "cell_type": "code",
   "execution_count": 293,
   "metadata": {
    "vscode": {
     "languageId": "shellscript"
    }
   },
   "outputs": [],
   "source": [
    "# Calculate the average fare for each class\n",
    "average_fare_per_class = titanic_df.groupby('pclass')['fare'].mean()\n",
    "\n",
    "# Fill missing fare values with the average fare of their respective class\n",
    "titanic_df['fare'] = titanic_df.apply(\n",
    "    lambda row: average_fare_per_class[row['pclass']] if pd.isnull(row['fare']) else row['fare'],\n",
    "    axis=1\n",
    ")"
   ]
  },
  {
   "cell_type": "code",
   "execution_count": 294,
   "metadata": {},
   "outputs": [],
   "source": [
    "# Calculate the median fare for each cabin\n",
    "titanic_df['cabin'] = titanic_df['cabin'].str[0]  # Extract the first letter of the cabin\n",
    "average_fare_per_cabin = titanic_df.groupby('cabin')['fare'].median().to_dict()\n",
    "\n",
    "# Function to assign cabin based on fare price\n",
    "def assign_cabin(fare):\n",
    "    for cabin, median_fare in average_fare_per_cabin.items():\n",
    "        if fare <= median_fare:\n",
    "            return cabin\n",
    "    return 'T'  # Assign 'T' if fare is higher than all median fares\n",
    "\n",
    "# Fill missing cabin values based on fare price\n",
    "titanic_df['cabin'] = titanic_df.apply(\n",
    "    lambda row: assign_cabin(row['fare']) if pd.isnull(row['cabin']) else row['cabin'],\n",
    "    axis=1\n",
    ")"
   ]
  },
  {
   "cell_type": "code",
   "execution_count": 295,
   "metadata": {},
   "outputs": [
    {
     "name": "stdout",
     "output_type": "stream",
     "text": [
      "<class 'pandas.core.frame.DataFrame'>\n",
      "RangeIndex: 1309 entries, 0 to 1308\n",
      "Data columns (total 10 columns):\n",
      " #   Column     Non-Null Count  Dtype  \n",
      "---  ------     --------------  -----  \n",
      " 0   pclass     1309 non-null   int64  \n",
      " 1   survived   1309 non-null   int64  \n",
      " 2   sex        1309 non-null   object \n",
      " 3   age        1309 non-null   float64\n",
      " 4   sibsp      1309 non-null   int64  \n",
      " 5   parch      1309 non-null   int64  \n",
      " 6   fare       1309 non-null   float64\n",
      " 7   cabin      1309 non-null   object \n",
      " 8   embarked   1309 non-null   object \n",
      " 9   home.dest  1309 non-null   object \n",
      "dtypes: float64(2), int64(4), object(4)\n",
      "memory usage: 102.4+ KB\n",
      "None\n",
      "\n",
      "Columns with Missing Values:\n",
      "Index([], dtype='object')\n"
     ]
    }
   ],
   "source": [
    "# Display the updated dataset information\n",
    "print(titanic_df.info(verbose=True))\n",
    "\n",
    "# Show columns with missing values\n",
    "columns_with_missing_values = titanic_df.columns[titanic_df.isnull().any()]\n",
    "print(\"\\nColumns with Missing Values:\")\n",
    "print(columns_with_missing_values)"
   ]
  },
  {
   "cell_type": "markdown",
   "metadata": {},
   "source": [
    "# Task 3: Encoding Categorical Variables"
   ]
  },
  {
   "cell_type": "code",
   "execution_count": 296,
   "metadata": {},
   "outputs": [],
   "source": [
    "# Perform one-hot encoding for the 'pclass' column\n",
    "titanic_df = pd.get_dummies(titanic_df, columns=['pclass'], drop_first=False)"
   ]
  },
  {
   "cell_type": "code",
   "execution_count": 297,
   "metadata": {},
   "outputs": [],
   "source": [
    "# Perform one-hot encoding for the 'sex' column\n",
    "titanic_df = pd.get_dummies(titanic_df, columns=['sex'], drop_first=False)"
   ]
  },
  {
   "cell_type": "code",
   "execution_count": 298,
   "metadata": {},
   "outputs": [],
   "source": [
    "# Perform one-hot encoding for the 'embarked' column\n",
    "titanic_df = pd.get_dummies(titanic_df, columns=['embarked'], drop_first=False)"
   ]
  },
  {
   "cell_type": "code",
   "execution_count": 299,
   "metadata": {},
   "outputs": [
    {
     "name": "stdout",
     "output_type": "stream",
     "text": [
      "Index(['survived', 'age', 'sibsp', 'parch', 'fare', 'cabin', 'home.dest',\n",
      "       'pclass_1', 'pclass_2', 'pclass_3', 'sex_female', 'sex_male',\n",
      "       'embarked_C', 'embarked_Q', 'embarked_S'],\n",
      "      dtype='object')\n",
      "   survived      age  sibsp  parch      fare cabin  \\\n",
      "0         1  29.0000      0      0  211.3375     B   \n",
      "1         1   0.9167      1      2  151.5500     C   \n",
      "2         0   2.0000      1      2  151.5500     C   \n",
      "3         0  30.0000      1      2  151.5500     C   \n",
      "4         0  25.0000      1      2  151.5500     C   \n",
      "\n",
      "                         home.dest  pclass_1  pclass_2  pclass_3  sex_female  \\\n",
      "0                     St Louis, MO      True     False     False        True   \n",
      "1  Montreal, PQ / Chesterville, ON      True     False     False       False   \n",
      "2  Montreal, PQ / Chesterville, ON      True     False     False        True   \n",
      "3  Montreal, PQ / Chesterville, ON      True     False     False       False   \n",
      "4  Montreal, PQ / Chesterville, ON      True     False     False        True   \n",
      "\n",
      "   sex_male  embarked_C  embarked_Q  embarked_S  \n",
      "0     False       False       False        True  \n",
      "1      True       False       False        True  \n",
      "2     False       False       False        True  \n",
      "3      True       False       False        True  \n",
      "4     False       False       False        True  \n"
     ]
    }
   ],
   "source": [
    "print(titanic_df.columns)\n",
    "print(titanic_df.head())"
   ]
  },
  {
   "cell_type": "markdown",
   "metadata": {},
   "source": [
    "# Task 4: Feature Scaling"
   ]
  },
  {
   "cell_type": "code",
   "execution_count": 300,
   "metadata": {},
   "outputs": [
    {
     "data": {
      "image/png": "[encoded data removed]",
      "text/plain": [
       "<Figure size 1200x600 with 2 Axes>"
      ]
     },
     "metadata": {},
     "output_type": "display_data"
    }
   ],
   "source": [
    "# Plot histogram of the 'fare' column\n",
    "plt.figure(figsize=(12, 6))\n",
    "plt.subplot(1, 2, 1)\n",
    "sns.histplot(titanic_df['fare'], kde=True)\n",
    "plt.title('Histogram of Fare')\n",
    "\n",
    "# Plot Q-Q plot of the 'fare' column\n",
    "plt.subplot(1, 2, 2)\n",
    "stats.probplot(titanic_df['fare'], dist=\"norm\", plot=plt)\n",
    "plt.title('Q-Q Plot of Fare')\n",
    "\n",
    "plt.tight_layout()\n",
    "plt.show()"
   ]
  },
  {
   "cell_type": "code",
   "execution_count": 301,
   "metadata": {},
   "outputs": [
    {
     "name": "stdout",
     "output_type": "stream",
     "text": [
      "       fare  fare_scaled\n",
      "0  211.3375     3.442579\n",
      "1  151.5500     2.286641\n",
      "2  151.5500     2.286641\n",
      "3  151.5500     2.286641\n",
      "4  151.5500     2.286641\n"
     ]
    }
   ],
   "source": [
    "\n",
    "# Initialize the StandardScaler\n",
    "scaler = StandardScaler()\n",
    "\n",
    "# Perform standardized scaling for the 'fare' column\n",
    "titanic_df['fare_scaled'] = scaler.fit_transform(titanic_df[['fare']])\n",
    "\n",
    "# Display the first few rows of the updated dataset\n",
    "print(titanic_df[['fare', 'fare_scaled']].head())"
   ]
  },
  {
   "cell_type": "code",
   "execution_count": 302,
   "metadata": {},
   "outputs": [
    {
     "data": {
      "image/png": "[encoded data removed]",
      "text/plain": [
       "<Figure size 1200x600 with 1 Axes>"
      ]
     },
     "metadata": {},
     "output_type": "display_data"
    }
   ],
   "source": [
    "# Plot histogram of the 'fare_scaled' column\n",
    "plt.figure(figsize=(12, 6))\n",
    "sns.histplot(titanic_df['fare_scaled'], kde=True)\n",
    "plt.title('Histogram of Scaled Fare')\n",
    "plt.xlabel('Scaled Fare')\n",
    "plt.ylabel('Frequency')\n",
    "plt.show()"
   ]
  },
  {
   "cell_type": "code",
   "execution_count": 303,
   "metadata": {},
   "outputs": [
    {
     "name": "stdout",
     "output_type": "stream",
     "text": [
      "       age  age_scaled\n",
      "0  29.0000    0.361169\n",
      "1   0.9167    0.009395\n",
      "2   2.0000    0.022964\n",
      "3  30.0000    0.373695\n",
      "4  25.0000    0.311064\n"
     ]
    }
   ],
   "source": [
    "from sklearn.preprocessing import MinMaxScaler\n",
    "\n",
    "# Initialize the MinMaxScaler\n",
    "minmax_scaler = MinMaxScaler()\n",
    "\n",
    "# Perform MinMax scaling for the 'age' column\n",
    "titanic_df['age_scaled'] = minmax_scaler.fit_transform(titanic_df[['age']])\n",
    "\n",
    "# Display the first few rows of the updated dataset\n",
    "print(titanic_df[['age', 'age_scaled']].head())\n",
    "\n",
    "# Drop the 'age' column as it is now scaled\n",
    "titanic_df.drop(columns=['age'], inplace=True)"
   ]
  },
  {
   "cell_type": "code",
   "execution_count": 304,
   "metadata": {},
   "outputs": [
    {
     "name": "stdout",
     "output_type": "stream",
     "text": [
      "Index(['survived', 'sibsp', 'parch', 'fare', 'cabin', 'home.dest', 'pclass_1',\n",
      "       'pclass_2', 'pclass_3', 'sex_female', 'sex_male', 'embarked_C',\n",
      "       'embarked_Q', 'embarked_S', 'fare_scaled', 'age_scaled'],\n",
      "      dtype='object')\n",
      "   survived  sibsp  parch      fare cabin                        home.dest  \\\n",
      "0         1      0      0  211.3375     B                     St Louis, MO   \n",
      "1         1      1      2  151.5500     C  Montreal, PQ / Chesterville, ON   \n",
      "2         0      1      2  151.5500     C  Montreal, PQ / Chesterville, ON   \n",
      "3         0      1      2  151.5500     C  Montreal, PQ / Chesterville, ON   \n",
      "4         0      1      2  151.5500     C  Montreal, PQ / Chesterville, ON   \n",
      "\n",
      "   pclass_1  pclass_2  pclass_3  sex_female  sex_male  embarked_C  embarked_Q  \\\n",
      "0      True     False     False        True     False       False       False   \n",
      "1      True     False     False       False      True       False       False   \n",
      "2      True     False     False        True     False       False       False   \n",
      "3      True     False     False       False      True       False       False   \n",
      "4      True     False     False        True     False       False       False   \n",
      "\n",
      "   embarked_S  fare_scaled  age_scaled  \n",
      "0        True     3.442579    0.361169  \n",
      "1        True     2.286641    0.009395  \n",
      "2        True     2.286641    0.022964  \n",
      "3        True     2.286641    0.373695  \n",
      "4        True     2.286641    0.311064  \n"
     ]
    }
   ],
   "source": [
    "print(titanic_df.columns)\n",
    "print(titanic_df.head())"
   ]
  },
  {
   "cell_type": "markdown",
   "metadata": {},
   "source": [
    "# Task 5: Data Splitting"
   ]
  },
  {
   "cell_type": "code",
   "execution_count": null,
   "metadata": {
    "vscode": {
     "languageId": "julia"
    }
   },
   "outputs": [],
   "source": [
    "from sklearn.model_selection import train_test_split\n",
    "\n",
    "# Define the features and target variable\n",
    "X = titanic_df.drop(columns=['survived'])\n",
    "y = titanic_df['survived']\n",
    "\n",
    "# Split the dataset into training (50%) and temp (50%) sets\n",
    "X_train, X_temp, y_train, y_temp = train_test_split(X, y, test_size=0.5, random_state=42)\n",
    "\n",
    "# Split the temp set into validation (60% of temp, which is 30% of original) and testing (40% of temp, which is 20% of original) sets\n",
    "X_val, X_test, y_val, y_test = train_test_split(X_temp, y_temp, test_size=0.4, random_state=42)\n",
    "\n",
    "# Display the sizes of the splits\n",
    "print(f\"Training set size: {X_train.shape[0]}\")\n",
    "print(f\"Validation set size: {X_val.shape[0]}\")\n",
    "print(f\"Testing set size: {X_test.shape[0]}\")"
   ]
  }
 ],
 "metadata": {
  "kernelspec": {
   "display_name": ".venv",
   "language": "python",
   "name": "python3"
  },
  "language_info": {
   "codemirror_mode": {
    "name": "ipython",
    "version": 3
   },
   "file_extension": ".py",
   "mimetype": "text/x-python",
   "name": "python",
   "nbconvert_exporter": "python",
   "pygments_lexer": "ipython3",
   "version": "3.12.6"
  }
 },
 "nbformat": 4,
 "nbformat_minor": 2
}
