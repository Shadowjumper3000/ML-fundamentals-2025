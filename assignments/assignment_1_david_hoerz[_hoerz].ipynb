{
 "cells": [
  {
   "cell_type": "markdown",
   "metadata": {},
   "source": [
    "# Basic Introduction and Summary of Assignment\n",
    "\n",
    "In this assignment, we will be working with the Titanic dataset. The goal is to load, preprocess, and analyze the data to gain insights into the factors that influenced the survival of passengers. We will perform various data preprocessing steps such as handling missing values, encoding categorical variables, and feature scaling.\n",
    "\n",
    "## Loading and Preprocessing of the Titanic Dataset\n",
    "\n",
    "We will start by loading the Titanic dataset and performing necessary preprocessing steps to prepare the data for analysis. This includes:\n",
    "\n",
    "1. Handling missing values.\n",
    "2. Encoding categorical variables.\n",
    "3. Feature scaling.\n"
   ]
  },
  {
   "cell_type": "markdown",
   "metadata": {},
   "source": [
    "# Titanic Dataset Description\n",
    "\n",
    "1. **survival**: Survival (0 = No; 1 = Yes).\n",
    "2. **class**: Passenger Class (1 = 1st; 2 = 2nd; 3 = 3rd).\n",
    "3. **name**: Name.\n",
    "4. **sex**: Sex.\n",
    "5. **sibsp**: Number of Siblings/Spouses Aboard.\n",
    "6. **parch**: Number of Parents/Children Aboard.\n",
    "7. **ticket**: Ticket Number.\n",
    "8. **fare**: Passenger Fare.\n",
    "9. **cabin**: Cabin.\n",
    "10. **embarked**: Port of Embarkation (C = Cherbourg; Q = Queenstown; S = Southampton).\n",
    "11. **boat**: Lifeboat (if survived).\n",
    "12. **body**: Body number (if did not survive and the body was recovered).\n"
   ]
  },
  {
   "cell_type": "markdown",
   "metadata": {},
   "source": [
    "# Data Exploration\n",
    "\n",
    "## Task 1: Data Loading and Initial Exploration\n",
    "\n",
    "**Lecture material:** Lecture 3, slides 4–8, 10, and 11.\n",
    "\n",
    "- **Load the dataset into a Pandas DataFrame.**\n",
    "- **Perform basic exploratory data analysis (EDA) to comprehend the structure and characteristics of the data.**\n",
    "\n",
    "**Note:** Your analysis should include appropriate exploratory statistics and visualizations."
   ]
  },
  {
   "cell_type": "code",
   "execution_count": 66,
   "metadata": {},
   "outputs": [],
   "source": [
    "import pandas as pd\n",
    "import matplotlib.pyplot as plt\n",
    "import numpy as np\n",
    "import seaborn as sns\n",
    "import scipy.stats as stats\n",
    "\n",
    "from scipy.stats import pearsonr"
   ]
  },
  {
   "cell_type": "code",
   "execution_count": 67,
   "metadata": {},
   "outputs": [
    {
     "name": "stdout",
     "output_type": "stream",
     "text": [
      "   pclass  survived                                             name     sex  \\\n",
      "0       1         1                    Allen, Miss. Elisabeth Walton  female   \n",
      "1       1         1                   Allison, Master. Hudson Trevor    male   \n",
      "2       1         0                     Allison, Miss. Helen Loraine  female   \n",
      "3       1         0             Allison, Mr. Hudson Joshua Creighton    male   \n",
      "4       1         0  Allison, Mrs. Hudson J C (Bessie Waldo Daniels)  female   \n",
      "\n",
      "       age  sibsp  parch  ticket      fare    cabin embarked boat   body  \\\n",
      "0  29.0000      0      0   24160  211.3375       B5        S    2    NaN   \n",
      "1   0.9167      1      2  113781  151.5500  C22 C26        S   11    NaN   \n",
      "2   2.0000      1      2  113781  151.5500  C22 C26        S  NaN    NaN   \n",
      "3  30.0000      1      2  113781  151.5500  C22 C26        S  NaN  135.0   \n",
      "4  25.0000      1      2  113781  151.5500  C22 C26        S  NaN    NaN   \n",
      "\n",
      "                         home.dest  \n",
      "0                     St Louis, MO  \n",
      "1  Montreal, PQ / Chesterville, ON  \n",
      "2  Montreal, PQ / Chesterville, ON  \n",
      "3  Montreal, PQ / Chesterville, ON  \n",
      "4  Montreal, PQ / Chesterville, ON  \n",
      "<class 'pandas.core.frame.DataFrame'>\n",
      "RangeIndex: 1309 entries, 0 to 1308\n",
      "Data columns (total 14 columns):\n",
      " #   Column     Non-Null Count  Dtype  \n",
      "---  ------     --------------  -----  \n",
      " 0   pclass     1309 non-null   int64  \n",
      " 1   survived   1309 non-null   int64  \n",
      " 2   name       1309 non-null   object \n",
      " 3   sex        1309 non-null   object \n",
      " 4   age        1046 non-null   float64\n",
      " 5   sibsp      1309 non-null   int64  \n",
      " 6   parch      1309 non-null   int64  \n",
      " 7   ticket     1309 non-null   object \n",
      " 8   fare       1308 non-null   float64\n",
      " 9   cabin      295 non-null    object \n",
      " 10  embarked   1307 non-null   object \n",
      " 11  boat       486 non-null    object \n",
      " 12  body       121 non-null    float64\n",
      " 13  home.dest  745 non-null    object \n",
      "dtypes: float64(3), int64(4), object(7)\n",
      "memory usage: 143.3+ KB\n",
      "None\n",
      "            pclass     survived          age        sibsp        parch  \\\n",
      "count  1309.000000  1309.000000  1046.000000  1309.000000  1309.000000   \n",
      "mean      2.294882     0.381971    29.881135     0.498854     0.385027   \n",
      "std       0.837836     0.486055    14.413500     1.041658     0.865560   \n",
      "min       1.000000     0.000000     0.166700     0.000000     0.000000   \n",
      "25%       2.000000     0.000000    21.000000     0.000000     0.000000   \n",
      "50%       3.000000     0.000000    28.000000     0.000000     0.000000   \n",
      "75%       3.000000     1.000000    39.000000     1.000000     0.000000   \n",
      "max       3.000000     1.000000    80.000000     8.000000     9.000000   \n",
      "\n",
      "              fare        body  \n",
      "count  1308.000000  121.000000  \n",
      "mean     33.295479  160.809917  \n",
      "std      51.758668   97.696922  \n",
      "min       0.000000    1.000000  \n",
      "25%       7.895800   72.000000  \n",
      "50%      14.454200  155.000000  \n",
      "75%      31.275000  256.000000  \n",
      "max     512.329200  328.000000  \n"
     ]
    }
   ],
   "source": [
    "# Load the dataset\n",
    "file_path = 'titanic3.xls'\n",
    "titanic_df = pd.read_excel(file_path)\n",
    "\n",
    "# Display the first few rows of the dataset\n",
    "print(titanic_df.head())\n",
    "\n",
    "# Display the dataset information\n",
    "print(titanic_df.info())\n",
    "\n",
    "# Display the summary statistics of the dataset\n",
    "print(titanic_df.describe())"
   ]
  },
  {
   "cell_type": "markdown",
   "metadata": {},
   "source": [
    "# Task 2: Managing Missing Values\n",
    "\n",
    "**Lecture Material:** Lecture 3, slides 22–24.\n",
    "\n",
    "- **Identify the columns containing missing values.**\n",
    "- **Develop a strategy to address them.**\n",
    "\n",
    "To manage missing values, we will:\n",
    "\n",
    "1. Identify columns with missing values.\n",
    "2. Decide on a strategy to handle these missing values, such as:\n",
    "    - Removing rows or columns with a high percentage of missing values.\n",
    "    - Imputing missing values using statistical methods (mean, median, mode).\n",
    "    - Using more advanced imputation techniques if necessary."
   ]
  },
  {
   "cell_type": "code",
   "execution_count": 68,
   "metadata": {},
   "outputs": [
    {
     "name": "stdout",
     "output_type": "stream",
     "text": [
      "\n",
      "Missing Values Count for Each Column:\n",
      "pclass          0\n",
      "survived        0\n",
      "name            0\n",
      "sex             0\n",
      "age           263\n",
      "sibsp           0\n",
      "parch           0\n",
      "ticket          0\n",
      "fare            1\n",
      "cabin        1014\n",
      "embarked        2\n",
      "boat          823\n",
      "body         1188\n",
      "home.dest     564\n",
      "dtype: int64\n",
      "\n",
      "Filtered Dataset (No Missing Values):\n",
      "Empty DataFrame\n",
      "Columns: [pclass, survived, name, sex, age, sibsp, parch, ticket, fare, cabin, embarked, boat, body, home.dest]\n",
      "Index: []\n",
      "\n",
      "Filtered Dataset Info:\n",
      "<class 'pandas.core.frame.DataFrame'>\n",
      "Index: 0 entries\n",
      "Data columns (total 14 columns):\n",
      " #   Column     Non-Null Count  Dtype  \n",
      "---  ------     --------------  -----  \n",
      " 0   pclass     0 non-null      int64  \n",
      " 1   survived   0 non-null      int64  \n",
      " 2   name       0 non-null      object \n",
      " 3   sex        0 non-null      object \n",
      " 4   age        0 non-null      float64\n",
      " 5   sibsp      0 non-null      int64  \n",
      " 6   parch      0 non-null      int64  \n",
      " 7   ticket     0 non-null      object \n",
      " 8   fare       0 non-null      float64\n",
      " 9   cabin      0 non-null      object \n",
      " 10  embarked   0 non-null      object \n",
      " 11  boat       0 non-null      object \n",
      " 12  body       0 non-null      float64\n",
      " 13  home.dest  0 non-null      object \n",
      "dtypes: float64(3), int64(4), object(7)\n",
      "memory usage: 0.0+ bytes\n",
      "None\n",
      "\n",
      "Filtered Dataset Summary Statistics:\n",
      "       pclass  survived  age  sibsp  parch  fare  body\n",
      "count     0.0       0.0  0.0    0.0    0.0   0.0   0.0\n",
      "mean      NaN       NaN  NaN    NaN    NaN   NaN   NaN\n",
      "std       NaN       NaN  NaN    NaN    NaN   NaN   NaN\n",
      "min       NaN       NaN  NaN    NaN    NaN   NaN   NaN\n",
      "25%       NaN       NaN  NaN    NaN    NaN   NaN   NaN\n",
      "50%       NaN       NaN  NaN    NaN    NaN   NaN   NaN\n",
      "75%       NaN       NaN  NaN    NaN    NaN   NaN   NaN\n",
      "max       NaN       NaN  NaN    NaN    NaN   NaN   NaN\n"
     ]
    }
   ],
   "source": [
    "# Count missing values for each column\n",
    "missing_values_count = titanic_df.isnull().sum()\n",
    "print(\"\\nMissing Values Count for Each Column:\")\n",
    "print(missing_values_count)\n",
    "\n",
    "# Filter out rows with missing values\n",
    "filtered_df = titanic_df.dropna()\n",
    "\n",
    "# Display the first few rows of the filtered dataset\n",
    "print(\"\\nFiltered Dataset (No Missing Values):\")\n",
    "print(filtered_df.head())\n",
    "\n",
    "# Display the dataset information\n",
    "print(\"\\nFiltered Dataset Info:\")\n",
    "print(filtered_df.info())\n",
    "\n",
    "# Display the summary statistics of the filtered dataset\n",
    "print(\"\\nFiltered Dataset Summary Statistics:\")\n",
    "print(filtered_df.describe())"
   ]
  },
  {
   "cell_type": "code",
   "execution_count": 69,
   "metadata": {},
   "outputs": [],
   "source": [
    "# Remove the 'boat' column, as this is dependent on survival status\n",
    "titanic_df.drop(columns=['boat'], inplace=True)"
   ]
  },
  {
   "cell_type": "code",
   "execution_count": 70,
   "metadata": {},
   "outputs": [],
   "source": [
    "# Remove the 'body' column, as this is dependent on survival status\n",
    "titanic_df.drop(columns=['body'], inplace=True)"
   ]
  },
  {
   "cell_type": "code",
   "execution_count": 71,
   "metadata": {},
   "outputs": [],
   "source": [
    "# Drop the 'name' column\n",
    "titanic_df.drop(columns=['name'], inplace=True)"
   ]
  },
  {
   "cell_type": "code",
   "execution_count": 72,
   "metadata": {},
   "outputs": [],
   "source": [
    "# Drop the 'ticket' column as it is not statistically significant\n",
    "titanic_df.drop(columns=['ticket'], inplace=True)"
   ]
  },
  {
   "cell_type": "code",
   "execution_count": 73,
   "metadata": {},
   "outputs": [
    {
     "name": "stdout",
     "output_type": "stream",
     "text": [
      "Chi-Square Test Statistic: 44.24174307145249\n",
      "P-value: 2.4718809874825634e-10\n",
      "There is a significant correlation between 'embarked' and 'survived'.\n"
     ]
    }
   ],
   "source": [
    "# Create a contingency table\n",
    "contingency_table = pd.crosstab(titanic_df['embarked'], titanic_df['survived'])\n",
    "\n",
    "# Perform the Chi-Square test of independence\n",
    "chi2, p, dof, expected = stats.chi2_contingency(contingency_table)\n",
    "\n",
    "print(\"Chi-Square Test Statistic:\", chi2)\n",
    "print(\"P-value:\", p)\n",
    "\n",
    "# Interpret the p-value\n",
    "alpha = 0.05\n",
    "if p < alpha:\n",
    "    print(\"There is a significant correlation between 'embarked' and 'survived'.\")\n",
    "else:\n",
    "    print(\"There is no significant correlation between 'embarked' and 'survived'.\")"
   ]
  },
  {
   "cell_type": "code",
   "execution_count": 74,
   "metadata": {},
   "outputs": [
    {
     "name": "stderr",
     "output_type": "stream",
     "text": [
      "C:\\Users\\DAHoe\\AppData\\Local\\Temp\\ipykernel_26088\\1947013915.py:3: FutureWarning: A value is trying to be set on a copy of a DataFrame or Series through chained assignment using an inplace method.\n",
      "The behavior will change in pandas 3.0. This inplace method will never work because the intermediate object on which we are setting values always behaves as a copy.\n",
      "\n",
      "For example, when doing 'df[col].method(value, inplace=True)', try using 'df.method({col: value}, inplace=True)' or df[col] = df[col].method(value) instead, to perform the operation inplace on the original object.\n",
      "\n",
      "\n",
      "  titanic_df['embarked'].fillna(median_embarked, inplace=True)\n"
     ]
    }
   ],
   "source": [
    "# Fill missing 'embarked' values with the median embarked value\n",
    "median_embarked = titanic_df['embarked'].mode()[0]\n",
    "titanic_df['embarked'].fillna(median_embarked, inplace=True)"
   ]
  },
  {
   "cell_type": "code",
   "execution_count": 75,
   "metadata": {},
   "outputs": [
    {
     "name": "stdout",
     "output_type": "stream",
     "text": [
      "Chi-Square Test Statistic for 'home.dest' and 'survived': 453.5181628230581\n",
      "P-value for 'home.dest' and 'survived': 0.001534485424156045\n",
      "There is a significant correlation between 'home.dest' and 'survived'.\n"
     ]
    }
   ],
   "source": [
    "# Create a contingency table\n",
    "contingency_table_home_dest = pd.crosstab(titanic_df['home.dest'], titanic_df['survived'])\n",
    "\n",
    "# Perform the Chi-Square test of independence\n",
    "chi2_home_dest, p_home_dest, dof_home_dest, expected_home_dest = stats.chi2_contingency(contingency_table_home_dest)\n",
    "\n",
    "print(\"Chi-Square Test Statistic for 'home.dest' and 'survived':\", chi2_home_dest)\n",
    "print(\"P-value for 'home.dest' and 'survived':\", p_home_dest)\n",
    "\n",
    "# Interpret the p-value\n",
    "alpha = 0.05\n",
    "if p_home_dest < alpha:\n",
    "    print(\"There is a significant correlation between 'home.dest' and 'survived'.\")\n",
    "else:\n",
    "    print(\"There is no significant correlation between 'home.dest' and 'survived'.\")"
   ]
  },
  {
   "cell_type": "code",
   "execution_count": 76,
   "metadata": {},
   "outputs": [],
   "source": [
    "# Calculate the percentage distribution of the existing home.dest values\n",
    "home_dest_distribution = titanic_df['home.dest'].value_counts(normalize=True)\n",
    "\n",
    "# Function to fill missing home.dest values based on the distribution\n",
    "def fill_home_dest(row):\n",
    "    if pd.isnull(row['home.dest']):\n",
    "        return np.random.choice(home_dest_distribution.index, p=home_dest_distribution.values)\n",
    "    else:\n",
    "        return row['home.dest']\n",
    "\n",
    "# Apply the function to fill missing home.dest values\n",
    "titanic_df['home.dest'] = titanic_df.apply(fill_home_dest, axis=1)"
   ]
  },
  {
   "cell_type": "code",
   "execution_count": 77,
   "metadata": {},
   "outputs": [
    {
     "name": "stderr",
     "output_type": "stream",
     "text": [
      "C:\\Users\\DAHoe\\AppData\\Local\\Temp\\ipykernel_26088\\2160160603.py:5: FutureWarning: A value is trying to be set on a copy of a DataFrame or Series through chained assignment using an inplace method.\n",
      "The behavior will change in pandas 3.0. This inplace method will never work because the intermediate object on which we are setting values always behaves as a copy.\n",
      "\n",
      "For example, when doing 'df[col].method(value, inplace=True)', try using 'df.method({col: value}, inplace=True)' or df[col] = df[col].method(value) instead, to perform the operation inplace on the original object.\n",
      "\n",
      "\n",
      "  titanic_df['age'].fillna(median_age, inplace=True)\n"
     ]
    }
   ],
   "source": [
    "# Calculate the median age\n",
    "median_age = titanic_df['age'].median()\n",
    "\n",
    "# Substitute the median age for missing age values\n",
    "titanic_df['age'].fillna(median_age, inplace=True)"
   ]
  },
  {
   "cell_type": "code",
   "execution_count": 78,
   "metadata": {
    "vscode": {
     "languageId": "shellscript"
    }
   },
   "outputs": [],
   "source": [
    "# Calculate the average fare for each class\n",
    "average_fare_per_class = titanic_df.groupby('pclass')['fare'].mean()\n",
    "\n",
    "# Fill missing fare values with the average fare of their respective class\n",
    "titanic_df['fare'] = titanic_df.apply(\n",
    "    lambda row: average_fare_per_class[row['pclass']] if pd.isnull(row['fare']) else row['fare'],\n",
    "    axis=1\n",
    ")"
   ]
  },
  {
   "cell_type": "code",
   "execution_count": 79,
   "metadata": {},
   "outputs": [],
   "source": [
    "# Perform one-hot encoding for the 'sex' column\n",
    "titanic_df = pd.get_dummies(titanic_df, columns=['sex'], drop_first=True)"
   ]
  },
  {
   "cell_type": "code",
   "execution_count": 80,
   "metadata": {},
   "outputs": [],
   "source": [
    "# Calculate the median fare for each cabin\n",
    "titanic_df['cabin'] = titanic_df['cabin'].str[0]  # Extract the first letter of the cabin\n",
    "average_fare_per_cabin = titanic_df.groupby('cabin')['fare'].median().to_dict()\n",
    "\n",
    "# Function to assign cabin based on fare price\n",
    "def assign_cabin(fare):\n",
    "    for cabin, median_fare in average_fare_per_cabin.items():\n",
    "        if fare <= median_fare:\n",
    "            return cabin\n",
    "    return 'T'  # Assign 'T' if fare is higher than all median fares\n",
    "\n",
    "# Fill missing cabin values based on fare price\n",
    "titanic_df['cabin'] = titanic_df.apply(\n",
    "    lambda row: assign_cabin(row['fare']) if pd.isnull(row['cabin']) else row['cabin'],\n",
    "    axis=1\n",
    ")"
   ]
  },
  {
   "cell_type": "code",
   "execution_count": 81,
   "metadata": {},
   "outputs": [
    {
     "name": "stdout",
     "output_type": "stream",
     "text": [
      "<class 'pandas.core.frame.DataFrame'>\n",
      "RangeIndex: 1309 entries, 0 to 1308\n",
      "Data columns (total 10 columns):\n",
      " #   Column     Non-Null Count  Dtype  \n",
      "---  ------     --------------  -----  \n",
      " 0   pclass     1309 non-null   int64  \n",
      " 1   survived   1309 non-null   int64  \n",
      " 2   age        1309 non-null   float64\n",
      " 3   sibsp      1309 non-null   int64  \n",
      " 4   parch      1309 non-null   int64  \n",
      " 5   fare       1309 non-null   float64\n",
      " 6   cabin      1309 non-null   object \n",
      " 7   embarked   1309 non-null   object \n",
      " 8   home.dest  1309 non-null   object \n",
      " 9   sex_male   1309 non-null   bool   \n",
      "dtypes: bool(1), float64(2), int64(4), object(3)\n",
      "memory usage: 93.4+ KB\n",
      "None\n",
      "\n",
      "Columns with Missing Values:\n",
      "Index([], dtype='object')\n"
     ]
    }
   ],
   "source": [
    "# Display the updated dataset information\n",
    "print(titanic_df.info(verbose=True))\n",
    "\n",
    "# Show columns with missing values\n",
    "columns_with_missing_values = titanic_df.columns[titanic_df.isnull().any()]\n",
    "print(\"\\nColumns with Missing Values:\")\n",
    "print(columns_with_missing_values)"
   ]
  },
  {
   "cell_type": "markdown",
   "metadata": {},
   "source": [
    "# Task 3\n"
   ]
  },
  {
   "cell_type": "code",
   "execution_count": null,
   "metadata": {},
   "outputs": [],
   "source": []
  }
 ],
 "metadata": {
  "kernelspec": {
   "display_name": ".venv",
   "language": "python",
   "name": "python3"
  },
  "language_info": {
   "codemirror_mode": {
    "name": "ipython",
    "version": 3
   },
   "file_extension": ".py",
   "mimetype": "text/x-python",
   "name": "python",
   "nbconvert_exporter": "python",
   "pygments_lexer": "ipython3",
   "version": "3.12.6"
  }
 },
 "nbformat": 4,
 "nbformat_minor": 2
}
