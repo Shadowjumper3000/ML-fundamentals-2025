{
 "cells": [
  {
   "cell_type": "markdown",
   "metadata": {},
   "source": [
    "# Basic Introduction and Summary of Assignment\n",
    "\n",
    "In this assignment, we will be working with the Titanic dataset. The goal is to load, preprocess, and analyze the data to gain insights into the factors that influenced the survival of passengers. We will perform various data preprocessing steps such as handling missing values, encoding categorical variables, and feature scaling.\n",
    "\n",
    "## Loading and Preprocessing of the Titanic Dataset\n",
    "\n",
    "We will start by loading the Titanic dataset and performing necessary preprocessing steps to prepare the data for analysis. This includes:\n",
    "\n",
    "1. Handling missing values.\n",
    "2. Encoding categorical variables.\n",
    "3. Feature scaling.\n"
   ]
  },
  {
   "cell_type": "markdown",
   "metadata": {},
   "source": [
    "# Titanic Dataset Description\n",
    "\n",
    "1. **survival**: Survival (0 = No; 1 = Yes).\n",
    "2. **class**: Passenger Class (1 = 1st; 2 = 2nd; 3 = 3rd).\n",
    "3. **name**: Name.\n",
    "4. **sex**: Sex.\n",
    "5. **sibsp**: Number of Siblings/Spouses Aboard.\n",
    "6. **parch**: Number of Parents/Children Aboard.\n",
    "7. **ticket**: Ticket Number.\n",
    "8. **fare**: Passenger Fare.\n",
    "9. **cabin**: Cabin.\n",
    "10. **embarked**: Port of Embarkation (C = Cherbourg; Q = Queenstown; S = Southampton).\n",
    "11. **boat**: Lifeboat (if survived).\n",
    "12. **body**: Body number (if did not survive and the body was recovered).\n"
   ]
  },
  {
   "cell_type": "markdown",
   "metadata": {},
   "source": [
    "# Data Exploration\n",
    "\n",
    "## Task 1: Data Loading and Initial Exploration\n",
    "\n",
    "**Lecture material:** Lecture 3, slides 4–8, 10, and 11.\n",
    "\n",
    "- **Load the dataset into a Pandas DataFrame.**\n",
    "- **Perform basic exploratory data analysis (EDA) to comprehend the structure and characteristics of the data.**\n",
    "\n",
    "**Note:** Your analysis should include appropriate exploratory statistics and visualizations."
   ]
  },
  {
   "cell_type": "code",
   "execution_count": 104,
   "metadata": {},
   "outputs": [],
   "source": [
    "import pandas as pd\n",
    "import matplotlib.pyplot as plt\n",
    "import numpy as np\n",
    "import seaborn as sns\n",
    "import scipy.stats as stats\n",
    "\n",
    "from scipy.stats import pearsonr"
   ]
  },
  {
   "cell_type": "code",
   "execution_count": 105,
   "metadata": {},
   "outputs": [
    {
     "name": "stdout",
     "output_type": "stream",
     "text": [
      "   pclass  survived                                             name     sex  \\\n",
      "0       1         1                    Allen, Miss. Elisabeth Walton  female   \n",
      "1       1         1                   Allison, Master. Hudson Trevor    male   \n",
      "2       1         0                     Allison, Miss. Helen Loraine  female   \n",
      "3       1         0             Allison, Mr. Hudson Joshua Creighton    male   \n",
      "4       1         0  Allison, Mrs. Hudson J C (Bessie Waldo Daniels)  female   \n",
      "\n",
      "       age  sibsp  parch  ticket      fare    cabin embarked boat   body  \\\n",
      "0  29.0000      0      0   24160  211.3375       B5        S    2    NaN   \n",
      "1   0.9167      1      2  113781  151.5500  C22 C26        S   11    NaN   \n",
      "2   2.0000      1      2  113781  151.5500  C22 C26        S  NaN    NaN   \n",
      "3  30.0000      1      2  113781  151.5500  C22 C26        S  NaN  135.0   \n",
      "4  25.0000      1      2  113781  151.5500  C22 C26        S  NaN    NaN   \n",
      "\n",
      "                         home.dest  \n",
      "0                     St Louis, MO  \n",
      "1  Montreal, PQ / Chesterville, ON  \n",
      "2  Montreal, PQ / Chesterville, ON  \n",
      "3  Montreal, PQ / Chesterville, ON  \n",
      "4  Montreal, PQ / Chesterville, ON  \n",
      "<class 'pandas.core.frame.DataFrame'>\n",
      "RangeIndex: 1309 entries, 0 to 1308\n",
      "Data columns (total 14 columns):\n",
      " #   Column     Non-Null Count  Dtype  \n",
      "---  ------     --------------  -----  \n",
      " 0   pclass     1309 non-null   int64  \n",
      " 1   survived   1309 non-null   int64  \n",
      " 2   name       1309 non-null   object \n",
      " 3   sex        1309 non-null   object \n",
      " 4   age        1046 non-null   float64\n",
      " 5   sibsp      1309 non-null   int64  \n",
      " 6   parch      1309 non-null   int64  \n",
      " 7   ticket     1309 non-null   object \n",
      " 8   fare       1308 non-null   float64\n",
      " 9   cabin      295 non-null    object \n",
      " 10  embarked   1307 non-null   object \n",
      " 11  boat       486 non-null    object \n",
      " 12  body       121 non-null    float64\n",
      " 13  home.dest  745 non-null    object \n",
      "dtypes: float64(3), int64(4), object(7)\n",
      "memory usage: 143.3+ KB\n",
      "None\n",
      "            pclass     survived          age        sibsp        parch  \\\n",
      "count  1309.000000  1309.000000  1046.000000  1309.000000  1309.000000   \n",
      "mean      2.294882     0.381971    29.881135     0.498854     0.385027   \n",
      "std       0.837836     0.486055    14.413500     1.041658     0.865560   \n",
      "min       1.000000     0.000000     0.166700     0.000000     0.000000   \n",
      "25%       2.000000     0.000000    21.000000     0.000000     0.000000   \n",
      "50%       3.000000     0.000000    28.000000     0.000000     0.000000   \n",
      "75%       3.000000     1.000000    39.000000     1.000000     0.000000   \n",
      "max       3.000000     1.000000    80.000000     8.000000     9.000000   \n",
      "\n",
      "              fare        body  \n",
      "count  1308.000000  121.000000  \n",
      "mean     33.295479  160.809917  \n",
      "std      51.758668   97.696922  \n",
      "min       0.000000    1.000000  \n",
      "25%       7.895800   72.000000  \n",
      "50%      14.454200  155.000000  \n",
      "75%      31.275000  256.000000  \n",
      "max     512.329200  328.000000  \n"
     ]
    }
   ],
   "source": [
    "# Load the dataset\n",
    "file_path = 'titanic3.xls'\n",
    "titanic_df = pd.read_excel(file_path)\n",
    "\n",
    "# Display the first few rows of the dataset\n",
    "print(titanic_df.head())\n",
    "\n",
    "# Display the dataset information\n",
    "print(titanic_df.info())\n",
    "\n",
    "# Display the summary statistics of the dataset\n",
    "print(titanic_df.describe())"
   ]
  },
  {
   "cell_type": "markdown",
   "metadata": {},
   "source": [
    "# Task 2: Managing Missing Values\n",
    "\n",
    "**Lecture Material:** Lecture 3, slides 22–24.\n",
    "\n",
    "- **Identify the columns containing missing values.**\n",
    "- **Develop a strategy to address them.**\n",
    "\n",
    "To manage missing values, we will:\n",
    "\n",
    "1. Identify columns with missing values.\n",
    "2. Decide on a strategy to handle these missing values, such as:\n",
    "    - Removing rows or columns with a high percentage of missing values.\n",
    "    - Imputing missing values using statistical methods (mean, median, mode).\n",
    "    - Using more advanced imputation techniques if necessary."
   ]
  },
  {
   "cell_type": "code",
   "execution_count": 106,
   "metadata": {},
   "outputs": [
    {
     "name": "stdout",
     "output_type": "stream",
     "text": [
      "\n",
      "Missing Values Count for Each Column:\n",
      "pclass          0\n",
      "survived        0\n",
      "name            0\n",
      "sex             0\n",
      "age           263\n",
      "sibsp           0\n",
      "parch           0\n",
      "ticket          0\n",
      "fare            1\n",
      "cabin        1014\n",
      "embarked        2\n",
      "boat          823\n",
      "body         1188\n",
      "home.dest     564\n",
      "dtype: int64\n",
      "\n",
      "Filtered Dataset (No Missing Values):\n",
      "Empty DataFrame\n",
      "Columns: [pclass, survived, name, sex, age, sibsp, parch, ticket, fare, cabin, embarked, boat, body, home.dest]\n",
      "Index: []\n",
      "\n",
      "Filtered Dataset Info:\n",
      "<class 'pandas.core.frame.DataFrame'>\n",
      "Index: 0 entries\n",
      "Data columns (total 14 columns):\n",
      " #   Column     Non-Null Count  Dtype  \n",
      "---  ------     --------------  -----  \n",
      " 0   pclass     0 non-null      int64  \n",
      " 1   survived   0 non-null      int64  \n",
      " 2   name       0 non-null      object \n",
      " 3   sex        0 non-null      object \n",
      " 4   age        0 non-null      float64\n",
      " 5   sibsp      0 non-null      int64  \n",
      " 6   parch      0 non-null      int64  \n",
      " 7   ticket     0 non-null      object \n",
      " 8   fare       0 non-null      float64\n",
      " 9   cabin      0 non-null      object \n",
      " 10  embarked   0 non-null      object \n",
      " 11  boat       0 non-null      object \n",
      " 12  body       0 non-null      float64\n",
      " 13  home.dest  0 non-null      object \n",
      "dtypes: float64(3), int64(4), object(7)\n",
      "memory usage: 0.0+ bytes\n",
      "None\n",
      "\n",
      "Filtered Dataset Summary Statistics:\n",
      "       pclass  survived  age  sibsp  parch  fare  body\n",
      "count     0.0       0.0  0.0    0.0    0.0   0.0   0.0\n",
      "mean      NaN       NaN  NaN    NaN    NaN   NaN   NaN\n",
      "std       NaN       NaN  NaN    NaN    NaN   NaN   NaN\n",
      "min       NaN       NaN  NaN    NaN    NaN   NaN   NaN\n",
      "25%       NaN       NaN  NaN    NaN    NaN   NaN   NaN\n",
      "50%       NaN       NaN  NaN    NaN    NaN   NaN   NaN\n",
      "75%       NaN       NaN  NaN    NaN    NaN   NaN   NaN\n",
      "max       NaN       NaN  NaN    NaN    NaN   NaN   NaN\n"
     ]
    }
   ],
   "source": [
    "# Count missing values for each column\n",
    "missing_values_count = titanic_df.isnull().sum()\n",
    "print(\"\\nMissing Values Count for Each Column:\")\n",
    "print(missing_values_count)\n",
    "\n",
    "# Filter out rows with missing values\n",
    "filtered_df = titanic_df.dropna()\n",
    "\n",
    "# Display the first few rows of the filtered dataset\n",
    "print(\"\\nFiltered Dataset (No Missing Values):\")\n",
    "print(filtered_df.head())\n",
    "\n",
    "# Display the dataset information\n",
    "print(\"\\nFiltered Dataset Info:\")\n",
    "print(filtered_df.info())\n",
    "\n",
    "# Display the summary statistics of the filtered dataset\n",
    "print(\"\\nFiltered Dataset Summary Statistics:\")\n",
    "print(filtered_df.describe())"
   ]
  },
  {
   "cell_type": "code",
   "execution_count": 107,
   "metadata": {},
   "outputs": [],
   "source": [
    "# Drop the 'name' column\n",
    "titanic_df.drop(columns=['name'], inplace=True)"
   ]
  },
  {
   "cell_type": "code",
   "execution_count": 108,
   "metadata": {},
   "outputs": [],
   "source": [
    "# Remove the 'boat' column, as this is dependent on survival status\n",
    "titanic_df.drop(columns=['boat'], inplace=True)"
   ]
  },
  {
   "cell_type": "code",
   "execution_count": 109,
   "metadata": {},
   "outputs": [],
   "source": [
    "# Remove the 'body' column, as this is dependent on survival status\n",
    "titanic_df.drop(columns=['body'], inplace=True)"
   ]
  },
  {
   "cell_type": "code",
   "execution_count": 110,
   "metadata": {},
   "outputs": [
    {
     "name": "stderr",
     "output_type": "stream",
     "text": [
      "C:\\Users\\DAHoe\\AppData\\Local\\Temp\\ipykernel_9432\\2160160603.py:5: FutureWarning: A value is trying to be set on a copy of a DataFrame or Series through chained assignment using an inplace method.\n",
      "The behavior will change in pandas 3.0. This inplace method will never work because the intermediate object on which we are setting values always behaves as a copy.\n",
      "\n",
      "For example, when doing 'df[col].method(value, inplace=True)', try using 'df.method({col: value}, inplace=True)' or df[col] = df[col].method(value) instead, to perform the operation inplace on the original object.\n",
      "\n",
      "\n",
      "  titanic_df['age'].fillna(median_age, inplace=True)\n"
     ]
    }
   ],
   "source": [
    "# Calculate the median age\n",
    "median_age = titanic_df['age'].median()\n",
    "\n",
    "# Substitute the median age for missing age values\n",
    "titanic_df['age'].fillna(median_age, inplace=True)"
   ]
  },
  {
   "cell_type": "code",
   "execution_count": 111,
   "metadata": {
    "vscode": {
     "languageId": "shellscript"
    }
   },
   "outputs": [],
   "source": [
    "# Calculate the average fare for each class\n",
    "average_fare_per_class = titanic_df.groupby('pclass')['fare'].mean()\n",
    "\n",
    "# Fill missing fare values with the average fare of their respective class\n",
    "titanic_df['fare'] = titanic_df.apply(\n",
    "    lambda row: average_fare_per_class[row['pclass']] if pd.isnull(row['fare']) else row['fare'],\n",
    "    axis=1\n",
    ")"
   ]
  },
  {
   "cell_type": "code",
   "execution_count": 112,
   "metadata": {},
   "outputs": [],
   "source": [
    "# Perform one-hot encoding for the 'sex' column\n",
    "titanic_df = pd.get_dummies(titanic_df, columns=['sex'], drop_first=True)"
   ]
  },
  {
   "cell_type": "code",
   "execution_count": 113,
   "metadata": {},
   "outputs": [
    {
     "name": "stderr",
     "output_type": "stream",
     "text": [
      "C:\\Users\\DAHoe\\AppData\\Local\\Temp\\ipykernel_9432\\3964423841.py:3: FutureWarning: A value is trying to be set on a copy of a DataFrame or Series through chained assignment using an inplace method.\n",
      "The behavior will change in pandas 3.0. This inplace method will never work because the intermediate object on which we are setting values always behaves as a copy.\n",
      "\n",
      "For example, when doing 'df[col].method(value, inplace=True)', try using 'df.method({col: value}, inplace=True)' or df[col] = df[col].method(value) instead, to perform the operation inplace on the original object.\n",
      "\n",
      "\n",
      "  titanic_df['embarked'].fillna(median_embarked, inplace=True)\n"
     ]
    }
   ],
   "source": [
    "# Drop the 'embarked' columns\n",
    "titanic_df.drop(columns=['embarked_C', 'embarked_Q', 'embarked_S'], inplace=True)"
   ]
  },
  {
   "cell_type": "code",
   "execution_count": 115,
   "metadata": {},
   "outputs": [],
   "source": [
    "# Drop the 'home.dest' column\n",
    "titanic_df.drop(columns=['home.dest'], inplace=True)"
   ]
  },
  {
   "cell_type": "code",
   "execution_count": 114,
   "metadata": {},
   "outputs": [
    {
     "name": "stdout",
     "output_type": "stream",
     "text": [
      "<class 'pandas.core.frame.DataFrame'>\n",
      "RangeIndex: 1309 entries, 0 to 1308\n",
      "Data columns (total 13 columns):\n",
      " #   Column      Non-Null Count  Dtype  \n",
      "---  ------      --------------  -----  \n",
      " 0   pclass      1309 non-null   int64  \n",
      " 1   survived    1309 non-null   int64  \n",
      " 2   age         1309 non-null   float64\n",
      " 3   sibsp       1309 non-null   int64  \n",
      " 4   parch       1309 non-null   int64  \n",
      " 5   ticket      1309 non-null   object \n",
      " 6   fare        1309 non-null   float64\n",
      " 7   cabin       295 non-null    object \n",
      " 8   home.dest   745 non-null    object \n",
      " 9   sex_male    1309 non-null   bool   \n",
      " 10  embarked_C  1309 non-null   bool   \n",
      " 11  embarked_Q  1309 non-null   bool   \n",
      " 12  embarked_S  1309 non-null   bool   \n",
      "dtypes: bool(4), float64(2), int64(4), object(3)\n",
      "memory usage: 97.3+ KB\n",
      "None\n",
      "\n",
      "Columns with Missing Values:\n",
      "Index(['cabin', 'home.dest'], dtype='object')\n"
     ]
    }
   ],
   "source": [
    "# Display the updated dataset information\n",
    "print(titanic_df.info(verbose=True))\n",
    "\n",
    "# Show columns with missing values\n",
    "columns_with_missing_values = titanic_df.columns[titanic_df.isnull().any()]\n",
    "print(\"\\nColumns with Missing Values:\")\n",
    "print(columns_with_missing_values)"
   ]
  }
 ],
 "metadata": {
  "kernelspec": {
   "display_name": ".venv",
   "language": "python",
   "name": "python3"
  },
  "language_info": {
   "codemirror_mode": {
    "name": "ipython",
    "version": 3
   },
   "file_extension": ".py",
   "mimetype": "text/x-python",
   "name": "python",
   "nbconvert_exporter": "python",
   "pygments_lexer": "ipython3",
   "version": "3.12.6"
  }
 },
 "nbformat": 4,
 "nbformat_minor": 2
}
