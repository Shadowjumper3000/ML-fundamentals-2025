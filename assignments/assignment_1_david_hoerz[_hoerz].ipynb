{
 "cells": [
  {
   "cell_type": "markdown",
   "metadata": {},
   "source": [
    "# Basic Introduction and Summary of Assignment\n",
    "\n",
    "In this assignment, we will be working with the Titanic dataset. The goal is to load, preprocess, and analyze the data to gain insights into the factors that influenced the survival of passengers. We will perform various data preprocessing steps such as handling missing values, encoding categorical variables, and feature scaling.\n",
    "\n",
    "## Loading and Preprocessing of the Titanic Dataset\n",
    "\n",
    "We will start by loading the Titanic dataset and performing necessary preprocessing steps to prepare the data for analysis. This includes:\n",
    "\n",
    "1. Handling missing values.\n",
    "2. Encoding categorical variables.\n",
    "3. Feature scaling.\n"
   ]
  },
  {
   "cell_type": "markdown",
   "metadata": {},
   "source": [
    "# Titanic Dataset Description\n",
    "\n",
    "1. **survival**: Survival (0 = No; 1 = Yes).\n",
    "2. **class**: Passenger Class (1 = 1st; 2 = 2nd; 3 = 3rd).\n",
    "3. **name**: Name.\n",
    "4. **sex**: Sex.\n",
    "5. **sibsp**: Number of Siblings/Spouses Aboard.\n",
    "6. **parch**: Number of Parents/Children Aboard.\n",
    "7. **ticket**: Ticket Number.\n",
    "8. **fare**: Passenger Fare.\n",
    "9. **cabin**: Cabin.\n",
    "10. **embarked**: Port of Embarkation (C = Cherbourg; Q = Queenstown; S = Southampton).\n",
    "11. **boat**: Lifeboat (if survived).\n",
    "12. **body**: Body number (if did not survive and the body was recovered).\n"
   ]
  },
  {
   "cell_type": "markdown",
   "metadata": {},
   "source": [
    "# Data Exploration\n",
    "\n",
    "## Task 1: Data Loading and Initial Exploration\n",
    "\n",
    "**Lecture material:** Lecture 3, slides 4–8, 10, and 11.\n",
    "\n",
    "- **Load the dataset into a Pandas DataFrame.**\n",
    "- **Perform basic exploratory data analysis (EDA) to comprehend the structure and characteristics of the data.**\n",
    "\n",
    "**Note:** Your analysis should include appropriate exploratory statistics and visualizations."
   ]
  },
  {
   "cell_type": "code",
   "execution_count": 25,
   "metadata": {},
   "outputs": [],
   "source": [
    "import pandas as pd\n",
    "import matplotlib.pyplot as plt\n",
    "import numpy as np\n",
    "import seaborn as sns"
   ]
  },
  {
   "cell_type": "code",
   "execution_count": 26,
   "metadata": {},
   "outputs": [
    {
     "name": "stdout",
     "output_type": "stream",
     "text": [
      "   pclass  survived                                             name     sex  \\\n",
      "0       1         1                    Allen, Miss. Elisabeth Walton  female   \n",
      "1       1         1                   Allison, Master. Hudson Trevor    male   \n",
      "2       1         0                     Allison, Miss. Helen Loraine  female   \n",
      "3       1         0             Allison, Mr. Hudson Joshua Creighton    male   \n",
      "4       1         0  Allison, Mrs. Hudson J C (Bessie Waldo Daniels)  female   \n",
      "\n",
      "       age  sibsp  parch  ticket      fare    cabin embarked boat   body  \\\n",
      "0  29.0000      0      0   24160  211.3375       B5        S    2    NaN   \n",
      "1   0.9167      1      2  113781  151.5500  C22 C26        S   11    NaN   \n",
      "2   2.0000      1      2  113781  151.5500  C22 C26        S  NaN    NaN   \n",
      "3  30.0000      1      2  113781  151.5500  C22 C26        S  NaN  135.0   \n",
      "4  25.0000      1      2  113781  151.5500  C22 C26        S  NaN    NaN   \n",
      "\n",
      "                         home.dest  \n",
      "0                     St Louis, MO  \n",
      "1  Montreal, PQ / Chesterville, ON  \n",
      "2  Montreal, PQ / Chesterville, ON  \n",
      "3  Montreal, PQ / Chesterville, ON  \n",
      "4  Montreal, PQ / Chesterville, ON  \n",
      "<class 'pandas.core.frame.DataFrame'>\n",
      "RangeIndex: 1309 entries, 0 to 1308\n",
      "Data columns (total 14 columns):\n",
      " #   Column     Non-Null Count  Dtype  \n",
      "---  ------     --------------  -----  \n",
      " 0   pclass     1309 non-null   int64  \n",
      " 1   survived   1309 non-null   int64  \n",
      " 2   name       1309 non-null   object \n",
      " 3   sex        1309 non-null   object \n",
      " 4   age        1046 non-null   float64\n",
      " 5   sibsp      1309 non-null   int64  \n",
      " 6   parch      1309 non-null   int64  \n",
      " 7   ticket     1309 non-null   object \n",
      " 8   fare       1308 non-null   float64\n",
      " 9   cabin      295 non-null    object \n",
      " 10  embarked   1307 non-null   object \n",
      " 11  boat       486 non-null    object \n",
      " 12  body       121 non-null    float64\n",
      " 13  home.dest  745 non-null    object \n",
      "dtypes: float64(3), int64(4), object(7)\n",
      "memory usage: 143.3+ KB\n",
      "None\n",
      "            pclass     survived          age        sibsp        parch  \\\n",
      "count  1309.000000  1309.000000  1046.000000  1309.000000  1309.000000   \n",
      "mean      2.294882     0.381971    29.881135     0.498854     0.385027   \n",
      "std       0.837836     0.486055    14.413500     1.041658     0.865560   \n",
      "min       1.000000     0.000000     0.166700     0.000000     0.000000   \n",
      "25%       2.000000     0.000000    21.000000     0.000000     0.000000   \n",
      "50%       3.000000     0.000000    28.000000     0.000000     0.000000   \n",
      "75%       3.000000     1.000000    39.000000     1.000000     0.000000   \n",
      "max       3.000000     1.000000    80.000000     8.000000     9.000000   \n",
      "\n",
      "              fare        body  \n",
      "count  1308.000000  121.000000  \n",
      "mean     33.295479  160.809917  \n",
      "std      51.758668   97.696922  \n",
      "min       0.000000    1.000000  \n",
      "25%       7.895800   72.000000  \n",
      "50%      14.454200  155.000000  \n",
      "75%      31.275000  256.000000  \n",
      "max     512.329200  328.000000  \n"
     ]
    }
   ],
   "source": [
    "# Load the dataset\n",
    "file_path = 'titanic3.xls'\n",
    "titanic_df = pd.read_excel(file_path)\n",
    "\n",
    "# Display the first few rows of the dataset\n",
    "print(titanic_df.head())\n",
    "\n",
    "# Display the dataset information\n",
    "print(titanic_df.info())\n",
    "\n",
    "# Display the summary statistics of the dataset\n",
    "print(titanic_df.describe())"
   ]
  }
 ],
 "metadata": {
  "kernelspec": {
   "display_name": ".venv",
   "language": "python",
   "name": "python3"
  },
  "language_info": {
   "codemirror_mode": {
    "name": "ipython",
    "version": 3
   },
   "file_extension": ".py",
   "mimetype": "text/x-python",
   "name": "python",
   "nbconvert_exporter": "python",
   "pygments_lexer": "ipython3",
   "version": "3.12.6"
  }
 },
 "nbformat": 4,
 "nbformat_minor": 2
}
